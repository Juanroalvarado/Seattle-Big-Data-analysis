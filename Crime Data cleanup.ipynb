{
 "cells": [
  {
   "cell_type": "code",
   "execution_count": 3,
   "metadata": {},
   "outputs": [],
   "source": [
    "import numpy as np\n",
    "import pandas as pd"
   ]
  },
  {
   "cell_type": "code",
   "execution_count": 2,
   "metadata": {},
   "outputs": [],
   "source": [
    "crime_df = pd.read_csv(\"Crime_Data.csv\")"
   ]
  },
  {
   "cell_type": "code",
   "execution_count": 3,
   "metadata": {},
   "outputs": [
    {
     "name": "stdout",
     "output_type": "stream",
     "text": [
      "<class 'pandas.core.frame.DataFrame'>\n",
      "RangeIndex: 499488 entries, 0 to 499487\n",
      "Data columns (total 11 columns):\n",
      "Report Number                  499488 non-null int64\n",
      "Occurred Date                  499486 non-null object\n",
      "Occurred Time                  499486 non-null float64\n",
      "Reported Date                  499488 non-null object\n",
      "Reported Time                  499486 non-null float64\n",
      "Crime Subcategory              499226 non-null object\n",
      "Primary Offense Description    499488 non-null object\n",
      "Precinct                       499482 non-null object\n",
      "Sector                         496327 non-null object\n",
      "Beat                           496374 non-null object\n",
      "Neighborhood                   499488 non-null object\n",
      "dtypes: float64(2), int64(1), object(8)\n",
      "memory usage: 41.9+ MB\n"
     ]
    }
   ],
   "source": [
    "crime_df.info()"
   ]
  },
  {
   "cell_type": "markdown",
   "metadata": {},
   "source": [
    "## Formatting Date"
   ]
  },
  {
   "cell_type": "code",
   "execution_count": 4,
   "metadata": {},
   "outputs": [],
   "source": [
    "crime_df['Occurred Date'] =  pd.to_datetime(crime_df['Occurred Date'], format='%m/%d/%Y')\n",
    "crime_df['Reported Date'] =  pd.to_datetime(crime_df['Reported Date'], format='%m/%d/%Y')"
   ]
  },
  {
   "cell_type": "markdown",
   "metadata": {},
   "source": [
    "## Getting all dates after 2008"
   ]
  },
  {
   "cell_type": "markdown",
   "metadata": {},
   "source": [
    "Before cleanup"
   ]
  },
  {
   "cell_type": "code",
   "execution_count": 5,
   "metadata": {},
   "outputs": [
    {
     "data": {
      "text/plain": [
       "5494368"
      ]
     },
     "execution_count": 5,
     "metadata": {},
     "output_type": "execute_result"
    }
   ],
   "source": [
    "b4 = crime_df.size\n",
    "b4"
   ]
  },
  {
   "cell_type": "code",
   "execution_count": 6,
   "metadata": {},
   "outputs": [],
   "source": [
    "crime_df = crime_df[crime_df['Reported Date'] >= '2008-01-01']"
   ]
  },
  {
   "cell_type": "code",
   "execution_count": 7,
   "metadata": {},
   "outputs": [
    {
     "data": {
      "text/plain": [
       "5492256"
      ]
     },
     "execution_count": 7,
     "metadata": {},
     "output_type": "execute_result"
    }
   ],
   "source": [
    "aft = crime_df.size\n",
    "aft"
   ]
  },
  {
   "cell_type": "code",
   "execution_count": 8,
   "metadata": {},
   "outputs": [
    {
     "name": "stdout",
     "output_type": "stream",
     "text": [
      "Records before 2007: 2112\n"
     ]
    }
   ],
   "source": [
    "print (\"Records before 2007: \" + str(b4 - aft))"
   ]
  },
  {
   "cell_type": "markdown",
   "metadata": {},
   "source": [
    "## Formatting Times"
   ]
  },
  {
   "cell_type": "code",
   "execution_count": 9,
   "metadata": {},
   "outputs": [],
   "source": [
    "crime_df['Occurred Time'] = crime_df['Occurred Time'].fillna(method='ffill')\n",
    "crime_df['Reported Time'] = crime_df['Reported Time'].fillna(method='ffill')"
   ]
  },
  {
   "cell_type": "code",
   "execution_count": 10,
   "metadata": {},
   "outputs": [
    {
     "data": {
      "text/html": [
       "<div>\n",
       "<style scoped>\n",
       "    .dataframe tbody tr th:only-of-type {\n",
       "        vertical-align: middle;\n",
       "    }\n",
       "\n",
       "    .dataframe tbody tr th {\n",
       "        vertical-align: top;\n",
       "    }\n",
       "\n",
       "    .dataframe thead th {\n",
       "        text-align: right;\n",
       "    }\n",
       "</style>\n",
       "<table border=\"1\" class=\"dataframe\">\n",
       "  <thead>\n",
       "    <tr style=\"text-align: right;\">\n",
       "      <th></th>\n",
       "      <th>Report Number</th>\n",
       "      <th>Occurred Date</th>\n",
       "      <th>Occurred Time</th>\n",
       "      <th>Reported Date</th>\n",
       "      <th>Reported Time</th>\n",
       "      <th>Crime Subcategory</th>\n",
       "      <th>Primary Offense Description</th>\n",
       "      <th>Precinct</th>\n",
       "      <th>Sector</th>\n",
       "      <th>Beat</th>\n",
       "      <th>Neighborhood</th>\n",
       "    </tr>\n",
       "  </thead>\n",
       "  <tbody>\n",
       "    <tr>\n",
       "      <th>0</th>\n",
       "      <td>20080000465209</td>\n",
       "      <td>1908-12-13</td>\n",
       "      <td>2114.0</td>\n",
       "      <td>2008-12-13</td>\n",
       "      <td>2114.0</td>\n",
       "      <td>DUI</td>\n",
       "      <td>DUI-LIQUOR</td>\n",
       "      <td>EAST</td>\n",
       "      <td>G</td>\n",
       "      <td>G2</td>\n",
       "      <td>CENTRAL AREA/SQUIRE PARK</td>\n",
       "    </tr>\n",
       "    <tr>\n",
       "      <th>1</th>\n",
       "      <td>20090000437605</td>\n",
       "      <td>2009-12-20</td>\n",
       "      <td>2200.0</td>\n",
       "      <td>2009-12-21</td>\n",
       "      <td>1016.0</td>\n",
       "      <td>BURGLARY-COMMERCIAL</td>\n",
       "      <td>BURGLARY-FORCE-NONRES</td>\n",
       "      <td>SOUTHWEST</td>\n",
       "      <td>F</td>\n",
       "      <td>F3</td>\n",
       "      <td>SOUTH PARK</td>\n",
       "    </tr>\n",
       "    <tr>\n",
       "      <th>2</th>\n",
       "      <td>20090000438106</td>\n",
       "      <td>2009-12-20</td>\n",
       "      <td>2145.0</td>\n",
       "      <td>2009-12-21</td>\n",
       "      <td>1936.0</td>\n",
       "      <td>ROBBERY-STREET</td>\n",
       "      <td>ROBBERY-STREET-BODYFORCE</td>\n",
       "      <td>SOUTH</td>\n",
       "      <td>S</td>\n",
       "      <td>S1</td>\n",
       "      <td>SOUTH BEACON HILL</td>\n",
       "    </tr>\n",
       "    <tr>\n",
       "      <th>3</th>\n",
       "      <td>20090000437252</td>\n",
       "      <td>2009-12-20</td>\n",
       "      <td>2144.0</td>\n",
       "      <td>2009-12-20</td>\n",
       "      <td>2144.0</td>\n",
       "      <td>CAR PROWL</td>\n",
       "      <td>THEFT-CARPROWL</td>\n",
       "      <td>WEST</td>\n",
       "      <td>M</td>\n",
       "      <td>M1</td>\n",
       "      <td>BELLTOWN</td>\n",
       "    </tr>\n",
       "    <tr>\n",
       "      <th>4</th>\n",
       "      <td>20090000437261</td>\n",
       "      <td>2009-12-20</td>\n",
       "      <td>2136.0</td>\n",
       "      <td>2009-12-20</td>\n",
       "      <td>2330.0</td>\n",
       "      <td>THEFT-SHOPLIFT</td>\n",
       "      <td>THEFT-SHOPLIFT</td>\n",
       "      <td>WEST</td>\n",
       "      <td>M</td>\n",
       "      <td>M2</td>\n",
       "      <td>DOWNTOWN COMMERCIAL</td>\n",
       "    </tr>\n",
       "  </tbody>\n",
       "</table>\n",
       "</div>"
      ],
      "text/plain": [
       "    Report Number Occurred Date  Occurred Time Reported Date  Reported Time  \\\n",
       "0  20080000465209    1908-12-13         2114.0    2008-12-13         2114.0   \n",
       "1  20090000437605    2009-12-20         2200.0    2009-12-21         1016.0   \n",
       "2  20090000438106    2009-12-20         2145.0    2009-12-21         1936.0   \n",
       "3  20090000437252    2009-12-20         2144.0    2009-12-20         2144.0   \n",
       "4  20090000437261    2009-12-20         2136.0    2009-12-20         2330.0   \n",
       "\n",
       "     Crime Subcategory Primary Offense Description   Precinct Sector Beat  \\\n",
       "0                  DUI                  DUI-LIQUOR       EAST      G   G2   \n",
       "1  BURGLARY-COMMERCIAL       BURGLARY-FORCE-NONRES  SOUTHWEST      F   F3   \n",
       "2       ROBBERY-STREET    ROBBERY-STREET-BODYFORCE      SOUTH      S   S1   \n",
       "3            CAR PROWL              THEFT-CARPROWL       WEST      M   M1   \n",
       "4       THEFT-SHOPLIFT              THEFT-SHOPLIFT       WEST      M   M2   \n",
       "\n",
       "               Neighborhood  \n",
       "0  CENTRAL AREA/SQUIRE PARK  \n",
       "1                SOUTH PARK  \n",
       "2         SOUTH BEACON HILL  \n",
       "3                  BELLTOWN  \n",
       "4       DOWNTOWN COMMERCIAL  "
      ]
     },
     "execution_count": 10,
     "metadata": {},
     "output_type": "execute_result"
    }
   ],
   "source": [
    "crime_df.head()"
   ]
  },
  {
   "cell_type": "code",
   "execution_count": 11,
   "metadata": {},
   "outputs": [],
   "source": [
    "crime_df['Occurred Time'] = [pd.to_datetime(int(t), format='%H%M') if (len(str(t)) >= 4) else pd.to_datetime(int(t), format='%H') for t in crime_df['Occurred Time']]\n",
    "crime_df['Reported Time'] = [pd.to_datetime(int(t), format='%H%M') if (len(str(t)) >= 4) else pd.to_datetime(int(t), format='%H') for t in crime_df['Reported Time']]"
   ]
  },
  {
   "cell_type": "code",
   "execution_count": 12,
   "metadata": {},
   "outputs": [],
   "source": [
    "crime_df['Occurred Time'] = crime_df['Occurred Time'].dt.time\n",
    "crime_df['Reported Time'] = crime_df['Reported Time'].dt.time"
   ]
  },
  {
   "cell_type": "code",
   "execution_count": 14,
   "metadata": {},
   "outputs": [
    {
     "data": {
      "text/html": [
       "<div>\n",
       "<style scoped>\n",
       "    .dataframe tbody tr th:only-of-type {\n",
       "        vertical-align: middle;\n",
       "    }\n",
       "\n",
       "    .dataframe tbody tr th {\n",
       "        vertical-align: top;\n",
       "    }\n",
       "\n",
       "    .dataframe thead th {\n",
       "        text-align: right;\n",
       "    }\n",
       "</style>\n",
       "<table border=\"1\" class=\"dataframe\">\n",
       "  <thead>\n",
       "    <tr style=\"text-align: right;\">\n",
       "      <th></th>\n",
       "      <th>Report Number</th>\n",
       "      <th>Occurred Date</th>\n",
       "      <th>Occurred Time</th>\n",
       "      <th>Reported Date</th>\n",
       "      <th>Reported Time</th>\n",
       "      <th>Crime Subcategory</th>\n",
       "      <th>Primary Offense Description</th>\n",
       "      <th>Precinct</th>\n",
       "      <th>Sector</th>\n",
       "      <th>Beat</th>\n",
       "      <th>Neighborhood</th>\n",
       "    </tr>\n",
       "  </thead>\n",
       "  <tbody>\n",
       "    <tr>\n",
       "      <th>499482</th>\n",
       "      <td>20180000910320</td>\n",
       "      <td>2018-11-05</td>\n",
       "      <td>10:00:00</td>\n",
       "      <td>2018-11-05</td>\n",
       "      <td>10:20:00</td>\n",
       "      <td>CAR PROWL</td>\n",
       "      <td>THEFT-AUTOACC</td>\n",
       "      <td>EAST</td>\n",
       "      <td>G</td>\n",
       "      <td>G3</td>\n",
       "      <td>JUDKINS PARK/NORTH BEACON HILL</td>\n",
       "    </tr>\n",
       "    <tr>\n",
       "      <th>499483</th>\n",
       "      <td>20180000414202</td>\n",
       "      <td>2018-11-05</td>\n",
       "      <td>08:00:00</td>\n",
       "      <td>2018-11-05</td>\n",
       "      <td>08:00:00</td>\n",
       "      <td>NARCOTIC</td>\n",
       "      <td>NARC-POSSESS-METH</td>\n",
       "      <td>WEST</td>\n",
       "      <td>M</td>\n",
       "      <td>M3</td>\n",
       "      <td>DOWNTOWN COMMERCIAL</td>\n",
       "    </tr>\n",
       "    <tr>\n",
       "      <th>499484</th>\n",
       "      <td>20180000910319</td>\n",
       "      <td>2018-11-05</td>\n",
       "      <td>00:00:00</td>\n",
       "      <td>2018-11-05</td>\n",
       "      <td>10:19:00</td>\n",
       "      <td>THEFT-ALL OTHER</td>\n",
       "      <td>THEFT-OTH</td>\n",
       "      <td>NORTH</td>\n",
       "      <td>L</td>\n",
       "      <td>L3</td>\n",
       "      <td>LAKECITY</td>\n",
       "    </tr>\n",
       "    <tr>\n",
       "      <th>499485</th>\n",
       "      <td>20180000910304</td>\n",
       "      <td>2018-11-05</td>\n",
       "      <td>00:00:00</td>\n",
       "      <td>2018-11-05</td>\n",
       "      <td>08:26:00</td>\n",
       "      <td>CAR PROWL</td>\n",
       "      <td>THEFT-CARPROWL</td>\n",
       "      <td>NORTH</td>\n",
       "      <td>N</td>\n",
       "      <td>N3</td>\n",
       "      <td>NORTHGATE</td>\n",
       "    </tr>\n",
       "    <tr>\n",
       "      <th>499486</th>\n",
       "      <td>20070000430946</td>\n",
       "      <td>NaT</td>\n",
       "      <td>00:00:00</td>\n",
       "      <td>2007-01-01</td>\n",
       "      <td>08:26:00</td>\n",
       "      <td>RAPE</td>\n",
       "      <td>RAPE-OTHER</td>\n",
       "      <td>UNKNOWN</td>\n",
       "      <td>NaN</td>\n",
       "      <td>NaN</td>\n",
       "      <td>UNKNOWN</td>\n",
       "    </tr>\n",
       "  </tbody>\n",
       "</table>\n",
       "</div>"
      ],
      "text/plain": [
       "         Report Number Occurred Date Occurred Time Reported Date  \\\n",
       "499482  20180000910320    2018-11-05      10:00:00    2018-11-05   \n",
       "499483  20180000414202    2018-11-05      08:00:00    2018-11-05   \n",
       "499484  20180000910319    2018-11-05      00:00:00    2018-11-05   \n",
       "499485  20180000910304    2018-11-05      00:00:00    2018-11-05   \n",
       "499486  20070000430946           NaT      00:00:00    2007-01-01   \n",
       "\n",
       "       Reported Time Crime Subcategory Primary Offense Description Precinct  \\\n",
       "499482      10:20:00         CAR PROWL               THEFT-AUTOACC     EAST   \n",
       "499483      08:00:00          NARCOTIC           NARC-POSSESS-METH     WEST   \n",
       "499484      10:19:00   THEFT-ALL OTHER                   THEFT-OTH    NORTH   \n",
       "499485      08:26:00         CAR PROWL              THEFT-CARPROWL    NORTH   \n",
       "499486      08:26:00              RAPE                  RAPE-OTHER  UNKNOWN   \n",
       "\n",
       "       Sector Beat                    Neighborhood  \n",
       "499482      G   G3  JUDKINS PARK/NORTH BEACON HILL  \n",
       "499483      M   M3             DOWNTOWN COMMERCIAL  \n",
       "499484      L   L3                        LAKECITY  \n",
       "499485      N   N3                       NORTHGATE  \n",
       "499486    NaN  NaN                         UNKNOWN  "
      ]
     },
     "execution_count": 14,
     "metadata": {},
     "output_type": "execute_result"
    }
   ],
   "source": [
    "crime_df.tail()"
   ]
  },
  {
   "cell_type": "code",
   "execution_count": 28,
   "metadata": {},
   "outputs": [],
   "source": [
    "#crime_df.to_csv(\"crime_clean.csv\",index=False)"
   ]
  },
  {
   "cell_type": "code",
   "execution_count": 4,
   "metadata": {},
   "outputs": [],
   "source": [
    "#clean_df = pd.read_csv(\"crime_clean.csv\")"
   ]
  },
  {
   "cell_type": "code",
   "execution_count": 5,
   "metadata": {
    "scrolled": true
   },
   "outputs": [
    {
     "data": {
      "text/html": [
       "<div>\n",
       "<style scoped>\n",
       "    .dataframe tbody tr th:only-of-type {\n",
       "        vertical-align: middle;\n",
       "    }\n",
       "\n",
       "    .dataframe tbody tr th {\n",
       "        vertical-align: top;\n",
       "    }\n",
       "\n",
       "    .dataframe thead th {\n",
       "        text-align: right;\n",
       "    }\n",
       "</style>\n",
       "<table border=\"1\" class=\"dataframe\">\n",
       "  <thead>\n",
       "    <tr style=\"text-align: right;\">\n",
       "      <th></th>\n",
       "      <th>Report Number</th>\n",
       "      <th>Occurred Date</th>\n",
       "      <th>Occurred Time</th>\n",
       "      <th>Reported Date</th>\n",
       "      <th>Reported Time</th>\n",
       "      <th>Crime Subcategory</th>\n",
       "      <th>Primary Offense Description</th>\n",
       "      <th>Precinct</th>\n",
       "      <th>Sector</th>\n",
       "      <th>Beat</th>\n",
       "      <th>Neighborhood</th>\n",
       "    </tr>\n",
       "  </thead>\n",
       "  <tbody>\n",
       "    <tr>\n",
       "      <th>0</th>\n",
       "      <td>20080000465209</td>\n",
       "      <td>1908-12-13</td>\n",
       "      <td>21:14:00</td>\n",
       "      <td>2008-12-13</td>\n",
       "      <td>21:14:00</td>\n",
       "      <td>DUI</td>\n",
       "      <td>DUI-LIQUOR</td>\n",
       "      <td>EAST</td>\n",
       "      <td>G</td>\n",
       "      <td>G2</td>\n",
       "      <td>CENTRAL AREA/SQUIRE PARK</td>\n",
       "    </tr>\n",
       "    <tr>\n",
       "      <th>1</th>\n",
       "      <td>20090000437605</td>\n",
       "      <td>2009-12-20</td>\n",
       "      <td>22:00:00</td>\n",
       "      <td>2009-12-21</td>\n",
       "      <td>10:16:00</td>\n",
       "      <td>BURGLARY-COMMERCIAL</td>\n",
       "      <td>BURGLARY-FORCE-NONRES</td>\n",
       "      <td>SOUTHWEST</td>\n",
       "      <td>F</td>\n",
       "      <td>F3</td>\n",
       "      <td>SOUTH PARK</td>\n",
       "    </tr>\n",
       "    <tr>\n",
       "      <th>2</th>\n",
       "      <td>20090000438106</td>\n",
       "      <td>2009-12-20</td>\n",
       "      <td>21:45:00</td>\n",
       "      <td>2009-12-21</td>\n",
       "      <td>19:36:00</td>\n",
       "      <td>ROBBERY-STREET</td>\n",
       "      <td>ROBBERY-STREET-BODYFORCE</td>\n",
       "      <td>SOUTH</td>\n",
       "      <td>S</td>\n",
       "      <td>S1</td>\n",
       "      <td>SOUTH BEACON HILL</td>\n",
       "    </tr>\n",
       "    <tr>\n",
       "      <th>3</th>\n",
       "      <td>20090000437252</td>\n",
       "      <td>2009-12-20</td>\n",
       "      <td>21:44:00</td>\n",
       "      <td>2009-12-20</td>\n",
       "      <td>21:44:00</td>\n",
       "      <td>CAR PROWL</td>\n",
       "      <td>THEFT-CARPROWL</td>\n",
       "      <td>WEST</td>\n",
       "      <td>M</td>\n",
       "      <td>M1</td>\n",
       "      <td>BELLTOWN</td>\n",
       "    </tr>\n",
       "    <tr>\n",
       "      <th>4</th>\n",
       "      <td>20090000437261</td>\n",
       "      <td>2009-12-20</td>\n",
       "      <td>21:36:00</td>\n",
       "      <td>2009-12-20</td>\n",
       "      <td>23:30:00</td>\n",
       "      <td>THEFT-SHOPLIFT</td>\n",
       "      <td>THEFT-SHOPLIFT</td>\n",
       "      <td>WEST</td>\n",
       "      <td>M</td>\n",
       "      <td>M2</td>\n",
       "      <td>DOWNTOWN COMMERCIAL</td>\n",
       "    </tr>\n",
       "  </tbody>\n",
       "</table>\n",
       "</div>"
      ],
      "text/plain": [
       "    Report Number Occurred Date Occurred Time Reported Date Reported Time  \\\n",
       "0  20080000465209    1908-12-13      21:14:00    2008-12-13      21:14:00   \n",
       "1  20090000437605    2009-12-20      22:00:00    2009-12-21      10:16:00   \n",
       "2  20090000438106    2009-12-20      21:45:00    2009-12-21      19:36:00   \n",
       "3  20090000437252    2009-12-20      21:44:00    2009-12-20      21:44:00   \n",
       "4  20090000437261    2009-12-20      21:36:00    2009-12-20      23:30:00   \n",
       "\n",
       "     Crime Subcategory Primary Offense Description   Precinct Sector Beat  \\\n",
       "0                  DUI                  DUI-LIQUOR       EAST      G   G2   \n",
       "1  BURGLARY-COMMERCIAL       BURGLARY-FORCE-NONRES  SOUTHWEST      F   F3   \n",
       "2       ROBBERY-STREET    ROBBERY-STREET-BODYFORCE      SOUTH      S   S1   \n",
       "3            CAR PROWL              THEFT-CARPROWL       WEST      M   M1   \n",
       "4       THEFT-SHOPLIFT              THEFT-SHOPLIFT       WEST      M   M2   \n",
       "\n",
       "               Neighborhood  \n",
       "0  CENTRAL AREA/SQUIRE PARK  \n",
       "1                SOUTH PARK  \n",
       "2         SOUTH BEACON HILL  \n",
       "3                  BELLTOWN  \n",
       "4       DOWNTOWN COMMERCIAL  "
      ]
     },
     "execution_count": 5,
     "metadata": {},
     "output_type": "execute_result"
    }
   ],
   "source": [
    "clean_df.head()"
   ]
  },
  {
   "cell_type": "markdown",
   "metadata": {},
   "source": [
    "## Crime Subcategories"
   ]
  },
  {
   "cell_type": "code",
   "execution_count": 53,
   "metadata": {},
   "outputs": [
    {
     "data": {
      "text/plain": [
       "0                                     DUI\n",
       "1                     BURGLARY-COMMERCIAL\n",
       "2                          ROBBERY-STREET\n",
       "3                               CAR PROWL\n",
       "4                          THEFT-SHOPLIFT\n",
       "5                         THEFT-ALL OTHER\n",
       "6                            PROSTITUTION\n",
       "7                   AGGRAVATED ASSAULT-DV\n",
       "8                    BURGLARY-RESIDENTIAL\n",
       "9                     MOTOR VEHICLE THEFT\n",
       "10              FAMILY OFFENSE-NONVIOLENT\n",
       "11                      SEX OFFENSE-OTHER\n",
       "12                                   RAPE\n",
       "13                               HOMICIDE\n",
       "14                         THEFT-BUILDING\n",
       "15                     AGGRAVATED ASSAULT\n",
       "16    BURGLARY-RESIDENTIAL-SECURE PARKING\n",
       "17                               TRESPASS\n",
       "18     BURGLARY-COMMERCIAL-SECURE PARKING\n",
       "19                               NARCOTIC\n",
       "20                          THEFT-BICYCLE\n",
       "21                    ROBBERY-RESIDENTIAL\n",
       "22                                  ARSON\n",
       "23                            PORNOGRAPHY\n",
       "24                     ROBBERY-COMMERCIAL\n",
       "25                   LIQUOR LAW VIOLATION\n",
       "26                                 WEAPON\n",
       "27                              LOITERING\n",
       "28                                    NaN\n",
       "29                     DISORDERLY CONDUCT\n",
       "30                                 GAMBLE\n",
       "dtype: object"
      ]
     },
     "execution_count": 53,
     "metadata": {},
     "output_type": "execute_result"
    }
   ],
   "source": [
    "pd.Series(clean_df[\"Crime Subcategory\"].unique())"
   ]
  },
  {
   "cell_type": "code",
   "execution_count": 47,
   "metadata": {},
   "outputs": [
    {
     "data": {
      "text/plain": [
       "CAR PROWL                              142397\n",
       "THEFT-ALL OTHER                         51552\n",
       "THEFT-SHOPLIFT                          46354\n",
       "BURGLARY-RESIDENTIAL                    45181\n",
       "MOTOR VEHICLE THEFT                     41858\n",
       "BURGLARY-COMMERCIAL                     22144\n",
       "THEFT-BUILDING                          20386\n",
       "NARCOTIC                                16859\n",
       "TRESPASS                                15909\n",
       "AGGRAVATED ASSAULT                      14721\n",
       "DUI                                     12204\n",
       "ROBBERY-STREET                          11462\n",
       "THEFT-BICYCLE                           10720\n",
       "BURGLARY-RESIDENTIAL-SECURE PARKING      8163\n",
       "FAMILY OFFENSE-NONVIOLENT                6600\n",
       "AGGRAVATED ASSAULT-DV                    6590\n",
       "SEX OFFENSE-OTHER                        6045\n",
       "WEAPON                                   4747\n",
       "ROBBERY-COMMERCIAL                       4346\n",
       "PROSTITUTION                             3555\n",
       "RAPE                                     1857\n",
       "LIQUOR LAW VIOLATION                     1619\n",
       "BURGLARY-COMMERCIAL-SECURE PARKING       1099\n",
       "ARSON                                    1038\n",
       "ROBBERY-RESIDENTIAL                      1017\n",
       "DISORDERLY CONDUCT                        268\n",
       "HOMICIDE                                  267\n",
       "PORNOGRAPHY                               166\n",
       "LOITERING                                  85\n",
       "GAMBLE                                     17\n",
       "Name: Crime Subcategory, dtype: int64"
      ]
     },
     "execution_count": 47,
     "metadata": {},
     "output_type": "execute_result"
    }
   ],
   "source": [
    "crime_df[\"Crime Subcategory\"].value_counts()"
   ]
  },
  {
   "cell_type": "code",
   "execution_count": 9,
   "metadata": {},
   "outputs": [
    {
     "data": {
      "text/plain": [
       "0             CENTRAL AREA/SQUIRE PARK\n",
       "1                           SOUTH PARK\n",
       "2                    SOUTH BEACON HILL\n",
       "3                             BELLTOWN\n",
       "4                  DOWNTOWN COMMERCIAL\n",
       "5                           QUEEN ANNE\n",
       "6                           BITTERLAKE\n",
       "7                      ALASKA JUNCTION\n",
       "8                              FREMONT\n",
       "9                         CAPITOL HILL\n",
       "10                   ROOSEVELT/RAVENNA\n",
       "11                           NORTHGATE\n",
       "12                         SLU/CASCADE\n",
       "13                          HIGH POINT\n",
       "14                         MOUNT BAKER\n",
       "15      JUDKINS PARK/NORTH BEACON HILL\n",
       "16                      MADRONA/LESCHI\n",
       "17                      PIONEER SQUARE\n",
       "18                          FIRST HILL\n",
       "19                LAKEWOOD/SEWARD PARK\n",
       "20                          UNIVERSITY\n",
       "21                         WALLINGFORD\n",
       "22                             UNKNOWN\n",
       "23                                ALKI\n",
       "24                     BRIGHTON/DUNLAP\n",
       "25                       NORTH ADMIRAL\n",
       "26      ROXHILL/WESTWOOD/ARBOR HEIGHTS\n",
       "27                            LAKECITY\n",
       "28                        HILLMAN CITY\n",
       "29                       HIGHLAND PARK\n",
       "30                       FAUNTLEROY SW\n",
       "31                           SANDPOINT\n",
       "32             CLAREMONT/RAINIER VISTA\n",
       "33                        RAINIER VIEW\n",
       "34                   NORTH BEACON HILL\n",
       "35                              MORGAN\n",
       "36                            MAGNOLIA\n",
       "37                      SOUTH DELRIDGE\n",
       "38                      NORTH DELRIDGE\n",
       "39                                SODO\n",
       "40                           GREENWOOD\n",
       "41                       RAINIER BEACH\n",
       "42                     MID BEACON HILL\n",
       "43                       PHINNEY RIDGE\n",
       "44    CHINATOWN/INTERNATIONAL DISTRICT\n",
       "45                             GENESEE\n",
       "46                       BALLARD NORTH\n",
       "47                         MILLER PARK\n",
       "48                       BALLARD SOUTH\n",
       "49                       COLUMBIA CITY\n",
       "50                MONTLAKE/PORTAGE BAY\n",
       "51                           NEW HOLLY\n",
       "52                        MADISON PARK\n",
       "53                          GEORGETOWN\n",
       "54                     EASTLAKE - WEST\n",
       "55            COMMERCIAL HARBOR ISLAND\n",
       "56                 COMMERCIAL DUWAMISH\n",
       "57                        PIGEON POINT\n",
       "58                     EASTLAKE - EAST\n",
       "dtype: object"
      ]
     },
     "execution_count": 9,
     "metadata": {},
     "output_type": "execute_result"
    }
   ],
   "source": [
    "pd.Series(clean_df[\"Neighborhood\"].unique())"
   ]
  },
  {
   "cell_type": "code",
   "execution_count": 16,
   "metadata": {},
   "outputs": [],
   "source": [
    "def encodeCat(df, col):\n",
    "    dfCat = df[col].str.get_dummies(sep=',')\n",
    "    return pd.concat([df, dfCat], sort=False, axis=1)"
   ]
  },
  {
   "cell_type": "code",
   "execution_count": 17,
   "metadata": {},
   "outputs": [],
   "source": [
    "clean_df = encodeCat(clean_df,\"Crime Subcategory\")"
   ]
  },
  {
   "cell_type": "code",
   "execution_count": 19,
   "metadata": {},
   "outputs": [],
   "source": [
    "del clean_df[\"Crime Subcategory\"]"
   ]
  },
  {
   "cell_type": "code",
   "execution_count": 20,
   "metadata": {},
   "outputs": [],
   "source": [
    "del clean_df[\"Neighborhood\"]"
   ]
  },
  {
   "cell_type": "code",
   "execution_count": null,
   "metadata": {},
   "outputs": [],
   "source": [
    "crime_df.to_csv(\"crime_clean.csv\",index=False)"
   ]
  }
 ],
 "metadata": {
  "kernelspec": {
   "display_name": "Python 2",
   "language": "python",
   "name": "python2"
  },
  "language_info": {
   "codemirror_mode": {
    "name": "ipython",
    "version": 2
   },
   "file_extension": ".py",
   "mimetype": "text/x-python",
   "name": "python",
   "nbconvert_exporter": "python",
   "pygments_lexer": "ipython2",
   "version": "2.7.15"
  }
 },
 "nbformat": 4,
 "nbformat_minor": 2
}
