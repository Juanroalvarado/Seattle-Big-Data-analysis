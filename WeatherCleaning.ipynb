{
 "cells": [
  {
   "cell_type": "code",
   "execution_count": 42,
   "metadata": {},
   "outputs": [
    {
     "name": "stderr",
     "output_type": "stream",
     "text": [
      "C:\\Users\\Sebastian\\AppData\\Local\\conda\\conda\\envs\\spark\\lib\\site-packages\\distributed\\bokeh\\core.py:56: UserWarning: \n",
      "Port 8787 is already in use. \n",
      "Perhaps you already have a cluster running?\n",
      "Hosting the diagnostics dashboard on a random port instead.\n",
      "  warnings.warn('\\n' + msg)\n"
     ]
    },
    {
     "data": {
      "text/html": [
       "<table style=\"border: 2px solid white;\">\n",
       "<tr>\n",
       "<td style=\"vertical-align: top; border: 0px solid white\">\n",
       "<h3>Client</h3>\n",
       "<ul>\n",
       "  <li><b>Scheduler: </b>tcp://127.0.0.1:62037\n",
       "  <li><b>Dashboard: </b><a href='http://127.0.0.1:62040/status' target='_blank'>http://127.0.0.1:62040/status</a>\n",
       "</ul>\n",
       "</td>\n",
       "<td style=\"vertical-align: top; border: 0px solid white\">\n",
       "<h3>Cluster</h3>\n",
       "<ul>\n",
       "  <li><b>Workers: </b>4</li>\n",
       "  <li><b>Cores: </b>4</li>\n",
       "  <li><b>Memory: </b>7.47 GB</li>\n",
       "</ul>\n",
       "</td>\n",
       "</tr>\n",
       "</table>"
      ],
      "text/plain": [
       "<Client: scheduler='tcp://127.0.0.1:62037' processes=4 cores=4>"
      ]
     },
     "execution_count": 42,
     "metadata": {},
     "output_type": "execute_result"
    }
   ],
   "source": [
    "from dask.distributed import Client, progress\n",
    "client = Client()\n",
    "client"
   ]
  },
  {
   "cell_type": "code",
   "execution_count": 43,
   "metadata": {},
   "outputs": [],
   "source": [
    "import dask.dataframe as dd"
   ]
  },
  {
   "cell_type": "code",
   "execution_count": 44,
   "metadata": {},
   "outputs": [],
   "source": [
    "df = dd.read_csv('Road_Weather_Information_Stations.csv', blocksize = 50e6)"
   ]
  },
  {
   "cell_type": "code",
   "execution_count": 45,
   "metadata": {},
   "outputs": [
    {
     "data": {
      "text/html": [
       "<div>\n",
       "<style scoped>\n",
       "    .dataframe tbody tr th:only-of-type {\n",
       "        vertical-align: middle;\n",
       "    }\n",
       "\n",
       "    .dataframe tbody tr th {\n",
       "        vertical-align: top;\n",
       "    }\n",
       "\n",
       "    .dataframe thead th {\n",
       "        text-align: right;\n",
       "    }\n",
       "</style>\n",
       "<table border=\"1\" class=\"dataframe\">\n",
       "  <thead>\n",
       "    <tr style=\"text-align: right;\">\n",
       "      <th></th>\n",
       "      <th>StationName</th>\n",
       "      <th>StationLocation</th>\n",
       "      <th>DateTime</th>\n",
       "      <th>RecordId</th>\n",
       "      <th>RoadSurfaceTemperature</th>\n",
       "      <th>AirTemperature</th>\n",
       "    </tr>\n",
       "  </thead>\n",
       "  <tbody>\n",
       "    <tr>\n",
       "      <th>0</th>\n",
       "      <td>35thAveSW_SWMyrtleSt</td>\n",
       "      <td>(47.53918, -122.37658)</td>\n",
       "      <td>03/03/2014 12:42:00 PM</td>\n",
       "      <td>672560</td>\n",
       "      <td>53.88</td>\n",
       "      <td>53.88</td>\n",
       "    </tr>\n",
       "    <tr>\n",
       "      <th>1</th>\n",
       "      <td>35thAveSW_SWMyrtleSt</td>\n",
       "      <td>(47.53918, -122.37658)</td>\n",
       "      <td>03/03/2014 12:43:00 PM</td>\n",
       "      <td>672561</td>\n",
       "      <td>54.05</td>\n",
       "      <td>54.05</td>\n",
       "    </tr>\n",
       "    <tr>\n",
       "      <th>2</th>\n",
       "      <td>35thAveSW_SWMyrtleSt</td>\n",
       "      <td>(47.53918, -122.37658)</td>\n",
       "      <td>03/03/2014 12:44:00 PM</td>\n",
       "      <td>672562</td>\n",
       "      <td>54.21</td>\n",
       "      <td>54.21</td>\n",
       "    </tr>\n",
       "    <tr>\n",
       "      <th>3</th>\n",
       "      <td>35thAveSW_SWMyrtleSt</td>\n",
       "      <td>(47.53918, -122.37658)</td>\n",
       "      <td>03/03/2014 12:45:00 PM</td>\n",
       "      <td>672563</td>\n",
       "      <td>54.38</td>\n",
       "      <td>54.38</td>\n",
       "    </tr>\n",
       "    <tr>\n",
       "      <th>4</th>\n",
       "      <td>35thAveSW_SWMyrtleSt</td>\n",
       "      <td>(47.53918, -122.37658)</td>\n",
       "      <td>03/03/2014 12:46:00 PM</td>\n",
       "      <td>672564</td>\n",
       "      <td>54.54</td>\n",
       "      <td>54.54</td>\n",
       "    </tr>\n",
       "  </tbody>\n",
       "</table>\n",
       "</div>"
      ],
      "text/plain": [
       "            StationName         StationLocation                DateTime  \\\n",
       "0  35thAveSW_SWMyrtleSt  (47.53918, -122.37658)  03/03/2014 12:42:00 PM   \n",
       "1  35thAveSW_SWMyrtleSt  (47.53918, -122.37658)  03/03/2014 12:43:00 PM   \n",
       "2  35thAveSW_SWMyrtleSt  (47.53918, -122.37658)  03/03/2014 12:44:00 PM   \n",
       "3  35thAveSW_SWMyrtleSt  (47.53918, -122.37658)  03/03/2014 12:45:00 PM   \n",
       "4  35thAveSW_SWMyrtleSt  (47.53918, -122.37658)  03/03/2014 12:46:00 PM   \n",
       "\n",
       "   RecordId  RoadSurfaceTemperature  AirTemperature  \n",
       "0    672560                   53.88           53.88  \n",
       "1    672561                   54.05           54.05  \n",
       "2    672562                   54.21           54.21  \n",
       "3    672563                   54.38           54.38  \n",
       "4    672564                   54.54           54.54  "
      ]
     },
     "execution_count": 45,
     "metadata": {},
     "output_type": "execute_result"
    }
   ],
   "source": [
    "df.head()"
   ]
  },
  {
   "cell_type": "code",
   "execution_count": 46,
   "metadata": {},
   "outputs": [],
   "source": [
    "del df['StationLocation']"
   ]
  },
  {
   "cell_type": "code",
   "execution_count": 47,
   "metadata": {},
   "outputs": [],
   "source": [
    "del df['RoadSurfaceTemperature']"
   ]
  },
  {
   "cell_type": "code",
   "execution_count": 48,
   "metadata": {},
   "outputs": [],
   "source": [
    "del df['RecordId']"
   ]
  },
  {
   "cell_type": "code",
   "execution_count": 49,
   "metadata": {},
   "outputs": [
    {
     "data": {
      "text/html": [
       "<div>\n",
       "<style scoped>\n",
       "    .dataframe tbody tr th:only-of-type {\n",
       "        vertical-align: middle;\n",
       "    }\n",
       "\n",
       "    .dataframe tbody tr th {\n",
       "        vertical-align: top;\n",
       "    }\n",
       "\n",
       "    .dataframe thead th {\n",
       "        text-align: right;\n",
       "    }\n",
       "</style>\n",
       "<table border=\"1\" class=\"dataframe\">\n",
       "  <thead>\n",
       "    <tr style=\"text-align: right;\">\n",
       "      <th></th>\n",
       "      <th>StationName</th>\n",
       "      <th>DateTime</th>\n",
       "      <th>AirTemperature</th>\n",
       "    </tr>\n",
       "  </thead>\n",
       "  <tbody>\n",
       "    <tr>\n",
       "      <th>0</th>\n",
       "      <td>35thAveSW_SWMyrtleSt</td>\n",
       "      <td>03/03/2014 12:42:00 PM</td>\n",
       "      <td>53.88</td>\n",
       "    </tr>\n",
       "    <tr>\n",
       "      <th>1</th>\n",
       "      <td>35thAveSW_SWMyrtleSt</td>\n",
       "      <td>03/03/2014 12:43:00 PM</td>\n",
       "      <td>54.05</td>\n",
       "    </tr>\n",
       "    <tr>\n",
       "      <th>2</th>\n",
       "      <td>35thAveSW_SWMyrtleSt</td>\n",
       "      <td>03/03/2014 12:44:00 PM</td>\n",
       "      <td>54.21</td>\n",
       "    </tr>\n",
       "    <tr>\n",
       "      <th>3</th>\n",
       "      <td>35thAveSW_SWMyrtleSt</td>\n",
       "      <td>03/03/2014 12:45:00 PM</td>\n",
       "      <td>54.38</td>\n",
       "    </tr>\n",
       "    <tr>\n",
       "      <th>4</th>\n",
       "      <td>35thAveSW_SWMyrtleSt</td>\n",
       "      <td>03/03/2014 12:46:00 PM</td>\n",
       "      <td>54.54</td>\n",
       "    </tr>\n",
       "  </tbody>\n",
       "</table>\n",
       "</div>"
      ],
      "text/plain": [
       "            StationName                DateTime  AirTemperature\n",
       "0  35thAveSW_SWMyrtleSt  03/03/2014 12:42:00 PM           53.88\n",
       "1  35thAveSW_SWMyrtleSt  03/03/2014 12:43:00 PM           54.05\n",
       "2  35thAveSW_SWMyrtleSt  03/03/2014 12:44:00 PM           54.21\n",
       "3  35thAveSW_SWMyrtleSt  03/03/2014 12:45:00 PM           54.38\n",
       "4  35thAveSW_SWMyrtleSt  03/03/2014 12:46:00 PM           54.54"
      ]
     },
     "execution_count": 49,
     "metadata": {},
     "output_type": "execute_result"
    }
   ],
   "source": [
    "df.head()"
   ]
  },
  {
   "cell_type": "code",
   "execution_count": 50,
   "metadata": {},
   "outputs": [],
   "source": [
    "def extractDate(df, col):\n",
    "    df[col] = dd.to_datetime(df[col])\n",
    "    df['Year'] = df[col].dt.year\n",
    "    df['Month'] = df[col].dt.month\n",
    "    df['Day'] = df[col].dt.day"
   ]
  },
  {
   "cell_type": "code",
   "execution_count": 51,
   "metadata": {},
   "outputs": [],
   "source": [
    "def filterMonths(month):\n",
    "    if (month == 12) or (month == 1) or (month == 2):\n",
    "        season = 'WINTER'\n",
    "    elif (month == 3) or (month == 4) or (month == 5):\n",
    "        season = 'SPRING'\n",
    "    elif(month == 6) or (month == 7) or (month == 8):\n",
    "        season = 'SUMMER'\n",
    "    else:\n",
    "        season = 'FALL'\n",
    "    return season\n",
    "\n",
    "def createSeasonColumn(df):\n",
    "    df['Season'] = df.Month.apply(filterMonths)"
   ]
  },
  {
   "cell_type": "code",
   "execution_count": 52,
   "metadata": {},
   "outputs": [
    {
     "name": "stderr",
     "output_type": "stream",
     "text": [
      "distributed.comm.tcp - WARNING - Closing dangling stream in <TCP local=tcp://127.0.0.1:62081 remote=tcp://127.0.0.1:61865>\n"
     ]
    }
   ],
   "source": [
    "extractDate(df, 'DateTime')"
   ]
  },
  {
   "cell_type": "code",
   "execution_count": 53,
   "metadata": {},
   "outputs": [
    {
     "name": "stderr",
     "output_type": "stream",
     "text": [
      "C:\\Users\\Sebastian\\AppData\\Local\\conda\\conda\\envs\\spark\\lib\\site-packages\\dask\\dataframe\\core.py:2252: UserWarning: `meta` is not specified, inferred from partial data. Please provide `meta` if the result is unexpected.\n",
      "  Before: .apply(func)\n",
      "  After:  .apply(func, meta={'x': 'f8', 'y': 'f8'}) for dataframe result\n",
      "  or:     .apply(func, meta=('x', 'f8'))            for series result\n",
      "  warnings.warn(msg)\n"
     ]
    }
   ],
   "source": [
    "createSeasonColumn(df)"
   ]
  },
  {
   "cell_type": "code",
   "execution_count": 54,
   "metadata": {},
   "outputs": [],
   "source": [
    "def filterPrecincts(StationName):\n",
    "    if (StationName == 'JoseRizalBridgeNorth'):\n",
    "        Precinct = 'EAST'\n",
    "    elif (StationName == 'AuroraBridge') or (StationName == 'NE45StViaduct') or (StationName == 'RooseveltWay_NE80thSt'):\n",
    "        Precinct = 'NORTH'\n",
    "    elif(StationName == 'AlbroPlaceAirportWay') or (StationName == 'SpokaneSwingBridge'):\n",
    "        Precinct = 'SOUTH'\n",
    "    elif(StationName == '35thAveSW_SWMyrtleSt') or (StationName == 'HarborAveUpperNorthBridge'):\n",
    "        Precinct = 'SOUTHWEST'\n",
    "    else:\n",
    "        season = 'SOUTH'\n",
    "    return season\n",
    "\n",
    "def createPrecinctColumn(df):\n",
    "    df['Precinct'] = df.StationName.apply(filterPrecincts)"
   ]
  },
  {
   "cell_type": "code",
   "execution_count": 55,
   "metadata": {},
   "outputs": [],
   "source": [
    "del df['DateTime']"
   ]
  },
  {
   "cell_type": "code",
   "execution_count": 56,
   "metadata": {},
   "outputs": [
    {
     "name": "stderr",
     "output_type": "stream",
     "text": [
      "C:\\Users\\Sebastian\\AppData\\Local\\conda\\conda\\envs\\spark\\lib\\site-packages\\dask\\dataframe\\core.py:2252: UserWarning: `meta` is not specified, inferred from partial data. Please provide `meta` if the result is unexpected.\n",
      "  Before: .apply(func)\n",
      "  After:  .apply(func, meta={'x': 'f8', 'y': 'f8'}) for dataframe result\n",
      "  or:     .apply(func, meta=('x', 'f8'))            for series result\n",
      "  warnings.warn(msg)\n"
     ]
    }
   ],
   "source": [
    "createPrecinctColumn(df)"
   ]
  },
  {
   "cell_type": "code",
   "execution_count": 57,
   "metadata": {},
   "outputs": [],
   "source": [
    "del df['StationName']"
   ]
  },
  {
   "cell_type": "code",
   "execution_count": 58,
   "metadata": {},
   "outputs": [],
   "source": [
    "def removeOutliers(df, col):\n",
    "    newDF = df[(df[col] < 105) & (df[col] > 0)]\n",
    "    return newDF"
   ]
  },
  {
   "cell_type": "code",
   "execution_count": 59,
   "metadata": {},
   "outputs": [],
   "source": [
    "df = removeOutliers(df, 'AirTemperature')"
   ]
  },
  {
   "cell_type": "code",
   "execution_count": null,
   "metadata": {},
   "outputs": [],
   "source": [
    "df.head()"
   ]
  }
 ],
 "metadata": {
  "kernelspec": {
   "display_name": "Python 3",
   "language": "python",
   "name": "python3"
  }
 },
 "nbformat": 4,
 "nbformat_minor": 2
}
