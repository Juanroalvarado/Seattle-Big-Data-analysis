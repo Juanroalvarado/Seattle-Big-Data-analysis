{
 "cells": [
  {
   "cell_type": "markdown",
   "metadata": {},
   "source": [
    "## Crear columnas para fechas y temporadas\n",
    "\n",
    "ExtractDate toma las fechas, las convierte a datetime y luego extrae el año, mes y día.\n",
    "filterMonths clasifica cada fila a una de las temporadas dependiendo del mes.\n",
    "\n",
    "Estas funciones nos van a servir para todos los datasets. "
   ]
  },
  {
   "cell_type": "code",
   "execution_count": 1,
   "metadata": {},
   "outputs": [],
   "source": [
    "def extractDate(df, col):\n",
    "    df[col] = dd.to_datetime(df[col])\n",
    "    df['Year'] = df[col].dt.year\n",
    "    df['Month'] = df[col].dt.month\n",
    "    df['Day'] = df[col].dt.day"
   ]
  },
  {
   "cell_type": "code",
   "execution_count": 2,
   "metadata": {},
   "outputs": [],
   "source": [
    "def filterMonths(month):\n",
    "    if (month == 12) or (month == 1) or (month == 2):\n",
    "        season = 'WINTER'\n",
    "    elif (month == 3) or (month == 4) or (month == 5):\n",
    "        season = 'SPRING'\n",
    "    elif(month == 6) or (month == 7) or (month == 8):\n",
    "        season = 'SUMMER'\n",
    "    else:\n",
    "        season = 'FALL'\n",
    "    return season\n",
    "\n",
    "def createSeasonColumn(df):\n",
    "    df['Season'] = df.Month.apply(filterMonths)"
   ]
  },
  {
   "cell_type": "markdown",
   "metadata": {},
   "source": [
    "## Limpieza General:\n",
    "encodeCat toma todos las filas que tienen multiples valores separados por filas y los vuelve su propia columna con un valor de 0 o 1 dependiendo del valor de la columna original. Este nos sirve en todos los datasets.\n",
    "\n",
    "removeOutliers quita todos los valores fuera de cierto rango y solo nos sirve para el dataset de clima\n",
    "\n",
    "calcMean y calcSTD son para propositos descriptivos\n",
    "\n",
    "calcLength calcula la duración entre una fecha inicial y una fecha final en minutos, nos sirve para el dataset de llamadas y el dataset de eventos."
   ]
  },
  {
   "cell_type": "code",
   "execution_count": 3,
   "metadata": {},
   "outputs": [],
   "source": [
    "def encodeCat(df, col):\n",
    "    dfCat = df[col].str.get_dummies(sep=',')\n",
    "    new_df = pd.concat([df, dfCat], sort=False, axis=1)\n",
    "    return new_df"
   ]
  },
  {
   "cell_type": "code",
   "execution_count": 4,
   "metadata": {},
   "outputs": [],
   "source": [
    "def removeOutliers(df, col):\n",
    "    newDF = df[(df[col] < 105) & (df[col] > 0)]\n",
    "    return newDF"
   ]
  },
  {
   "cell_type": "code",
   "execution_count": 5,
   "metadata": {},
   "outputs": [],
   "source": [
    "def calcMean(df, seasonCol, tempCol, season):\n",
    "    mean = df[[tempCol]].mean().compute()\n",
    "    print(mean)\n",
    "    return mean\n",
    "\n",
    "def calcSTD(df, seasonCol, tempCol, season):\n",
    "    std = [[tempCol]].std().compute()\n",
    "    print(std)\n",
    "    return std"
   ]
  },
  {
   "cell_type": "code",
   "execution_count": 6,
   "metadata": {},
   "outputs": [],
   "source": [
    "def calcLength(df, startTime, endTime):\n",
    "    start = pd.to_datetime(df[startTime])\n",
    "    end = pd.to_datetime(df[endTime])\n",
    "    df['Even length mins'] = (end - start).astype('timedelta64[m]')"
   ]
  }
 ],
 "metadata": {
  "kernelspec": {
   "display_name": "Python 3",
   "language": "python",
   "name": "python3"
  },
  "language_info": {
   "codemirror_mode": {
    "name": "ipython",
    "version": 3
   },
   "file_extension": ".py",
   "mimetype": "text/x-python",
   "name": "python",
   "nbconvert_exporter": "python",
   "pygments_lexer": "ipython3",
   "version": "3.7.0"
  }
 },
 "nbformat": 4,
 "nbformat_minor": 2
}
