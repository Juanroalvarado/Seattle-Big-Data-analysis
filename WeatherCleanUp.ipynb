{
 "cells": [
  {
   "cell_type": "code",
   "execution_count": 1,
   "metadata": {},
   "outputs": [
    {
     "data": {
      "text/html": [
       "<table style=\"border: 2px solid white;\">\n",
       "<tr>\n",
       "<td style=\"vertical-align: top; border: 0px solid white\">\n",
       "<h3>Client</h3>\n",
       "<ul>\n",
       "  <li><b>Scheduler: </b>tcp://127.0.0.1:50399\n",
       "  <li><b>Dashboard: </b><a href='http://127.0.0.1:8787/status' target='_blank'>http://127.0.0.1:8787/status</a>\n",
       "</ul>\n",
       "</td>\n",
       "<td style=\"vertical-align: top; border: 0px solid white\">\n",
       "<h3>Cluster</h3>\n",
       "<ul>\n",
       "  <li><b>Workers: </b>4</li>\n",
       "  <li><b>Cores: </b>4</li>\n",
       "  <li><b>Memory: </b>7.47 GB</li>\n",
       "</ul>\n",
       "</td>\n",
       "</tr>\n",
       "</table>"
      ],
      "text/plain": [
       "<Client: scheduler='tcp://127.0.0.1:50399' processes=4 cores=4>"
      ]
     },
     "execution_count": 1,
     "metadata": {},
     "output_type": "execute_result"
    }
   ],
   "source": [
    "from dask.distributed import Client, progress\n",
    "client = Client()\n",
    "client"
   ]
  },
  {
   "cell_type": "code",
   "execution_count": 2,
   "metadata": {},
   "outputs": [],
   "source": [
    "import dask.dataframe as dd"
   ]
  },
  {
   "cell_type": "code",
   "execution_count": 3,
   "metadata": {},
   "outputs": [],
   "source": [
    "df = dd.read_csv('SeasonalWeather.csv')"
   ]
  },
  {
   "cell_type": "code",
   "execution_count": 4,
   "metadata": {},
   "outputs": [
    {
     "data": {
      "text/html": [
       "<div>\n",
       "<style scoped>\n",
       "    .dataframe tbody tr th:only-of-type {\n",
       "        vertical-align: middle;\n",
       "    }\n",
       "\n",
       "    .dataframe tbody tr th {\n",
       "        vertical-align: top;\n",
       "    }\n",
       "\n",
       "    .dataframe thead th {\n",
       "        text-align: right;\n",
       "    }\n",
       "</style>\n",
       "<table border=\"1\" class=\"dataframe\">\n",
       "  <thead>\n",
       "    <tr style=\"text-align: right;\">\n",
       "      <th></th>\n",
       "      <th>RoadSurfaceTemperature</th>\n",
       "      <th>AirTemperature</th>\n",
       "      <th>Precinct</th>\n",
       "      <th>Year</th>\n",
       "      <th>Month</th>\n",
       "      <th>Season</th>\n",
       "    </tr>\n",
       "  </thead>\n",
       "  <tbody>\n",
       "    <tr>\n",
       "      <th>0</th>\n",
       "      <td>53.88</td>\n",
       "      <td>53.88</td>\n",
       "      <td>SOUTHWEST</td>\n",
       "      <td>2014</td>\n",
       "      <td>3</td>\n",
       "      <td>SPRING</td>\n",
       "    </tr>\n",
       "    <tr>\n",
       "      <th>1</th>\n",
       "      <td>54.05</td>\n",
       "      <td>54.05</td>\n",
       "      <td>SOUTHWEST</td>\n",
       "      <td>2014</td>\n",
       "      <td>3</td>\n",
       "      <td>SPRING</td>\n",
       "    </tr>\n",
       "    <tr>\n",
       "      <th>2</th>\n",
       "      <td>54.21</td>\n",
       "      <td>54.21</td>\n",
       "      <td>SOUTHWEST</td>\n",
       "      <td>2014</td>\n",
       "      <td>3</td>\n",
       "      <td>SPRING</td>\n",
       "    </tr>\n",
       "    <tr>\n",
       "      <th>3</th>\n",
       "      <td>54.38</td>\n",
       "      <td>54.38</td>\n",
       "      <td>SOUTHWEST</td>\n",
       "      <td>2014</td>\n",
       "      <td>3</td>\n",
       "      <td>SPRING</td>\n",
       "    </tr>\n",
       "    <tr>\n",
       "      <th>4</th>\n",
       "      <td>54.54</td>\n",
       "      <td>54.54</td>\n",
       "      <td>SOUTHWEST</td>\n",
       "      <td>2014</td>\n",
       "      <td>3</td>\n",
       "      <td>SPRING</td>\n",
       "    </tr>\n",
       "  </tbody>\n",
       "</table>\n",
       "</div>"
      ],
      "text/plain": [
       "   RoadSurfaceTemperature  AirTemperature   Precinct  Year  Month  Season\n",
       "0                   53.88           53.88  SOUTHWEST  2014      3  SPRING\n",
       "1                   54.05           54.05  SOUTHWEST  2014      3  SPRING\n",
       "2                   54.21           54.21  SOUTHWEST  2014      3  SPRING\n",
       "3                   54.38           54.38  SOUTHWEST  2014      3  SPRING\n",
       "4                   54.54           54.54  SOUTHWEST  2014      3  SPRING"
      ]
     },
     "execution_count": 4,
     "metadata": {},
     "output_type": "execute_result"
    }
   ],
   "source": [
    "df.head()"
   ]
  },
  {
   "cell_type": "code",
   "execution_count": 5,
   "metadata": {},
   "outputs": [],
   "source": [
    "def calcMean(df, seasonCol, tempCol, season):\n",
    "    mean = df[(df[tempCol] < 105) & (df[tempCol] > 0) & (df[seasonCol] == season)][[tempCol]].mean().compute()\n",
    "    print(mean)\n",
    "    return mean\n"
   ]
  },
  {
   "cell_type": "code",
   "execution_count": 6,
   "metadata": {},
   "outputs": [],
   "source": [
    "def calcSTD(df, seasonCol, tempCol, season):\n",
    "    std = df[(df[tempCol] < 105) & (df[tempCol] > 0) & (df[seasonCol] == season)][[tempCol]].std().compute()\n",
    "    print(std)\n",
    "    return std"
   ]
  },
  {
   "cell_type": "markdown",
   "metadata": {},
   "source": [
    "## Winter"
   ]
  },
  {
   "cell_type": "code",
   "execution_count": 7,
   "metadata": {},
   "outputs": [
    {
     "name": "stdout",
     "output_type": "stream",
     "text": [
      "RoadSurfaceTemperature    44.826152\n",
      "dtype: float64\n"
     ]
    },
    {
     "data": {
      "text/plain": [
       "RoadSurfaceTemperature    44.826152\n",
       "dtype: float64"
      ]
     },
     "execution_count": 7,
     "metadata": {},
     "output_type": "execute_result"
    }
   ],
   "source": [
    "calcMean(df, 'Season', \"RoadSurfaceTemperature\", \"WINTER\")"
   ]
  },
  {
   "cell_type": "code",
   "execution_count": 8,
   "metadata": {},
   "outputs": [
    {
     "name": "stdout",
     "output_type": "stream",
     "text": [
      "RoadSurfaceTemperature    6.43319\n",
      "dtype: float64\n"
     ]
    },
    {
     "data": {
      "text/plain": [
       "RoadSurfaceTemperature    6.43319\n",
       "dtype: float64"
      ]
     },
     "execution_count": 8,
     "metadata": {},
     "output_type": "execute_result"
    }
   ],
   "source": [
    "calcSTD(df, 'Season', \"RoadSurfaceTemperature\", \"WINTER\")"
   ]
  },
  {
   "cell_type": "code",
   "execution_count": 9,
   "metadata": {},
   "outputs": [
    {
     "name": "stdout",
     "output_type": "stream",
     "text": [
      "AirTemperature    45.049804\n",
      "dtype: float64\n"
     ]
    },
    {
     "data": {
      "text/plain": [
       "AirTemperature    45.049804\n",
       "dtype: float64"
      ]
     },
     "execution_count": 9,
     "metadata": {},
     "output_type": "execute_result"
    }
   ],
   "source": [
    "calcMean(df, 'Season', \"AirTemperature\", \"WINTER\")"
   ]
  },
  {
   "cell_type": "code",
   "execution_count": 10,
   "metadata": {},
   "outputs": [
    {
     "name": "stdout",
     "output_type": "stream",
     "text": [
      "AirTemperature    5.900678\n",
      "dtype: float64\n"
     ]
    },
    {
     "data": {
      "text/plain": [
       "AirTemperature    5.900678\n",
       "dtype: float64"
      ]
     },
     "execution_count": 10,
     "metadata": {},
     "output_type": "execute_result"
    }
   ],
   "source": [
    "calcSTD(df, 'Season', \"AirTemperature\", \"WINTER\")"
   ]
  },
  {
   "cell_type": "code",
   "execution_count": 33,
   "metadata": {},
   "outputs": [
    {
     "data": {
      "text/plain": [
       "33.248448"
      ]
     },
     "execution_count": 33,
     "metadata": {},
     "output_type": "execute_result"
    }
   ],
   "source": [
    "45.049804-  5.900678 - 5.900678"
   ]
  },
  {
   "cell_type": "markdown",
   "metadata": {},
   "source": [
    "## Spring"
   ]
  },
  {
   "cell_type": "code",
   "execution_count": 11,
   "metadata": {},
   "outputs": [
    {
     "name": "stdout",
     "output_type": "stream",
     "text": [
      "RoadSurfaceTemperature    58.93128\n",
      "dtype: float64\n"
     ]
    },
    {
     "data": {
      "text/plain": [
       "RoadSurfaceTemperature    58.93128\n",
       "dtype: float64"
      ]
     },
     "execution_count": 11,
     "metadata": {},
     "output_type": "execute_result"
    }
   ],
   "source": [
    "calcMean(df, 'Season', \"RoadSurfaceTemperature\", \"SPRING\")"
   ]
  },
  {
   "cell_type": "code",
   "execution_count": 12,
   "metadata": {},
   "outputs": [
    {
     "name": "stdout",
     "output_type": "stream",
     "text": [
      "RoadSurfaceTemperature    12.448859\n",
      "dtype: float64\n"
     ]
    },
    {
     "data": {
      "text/plain": [
       "RoadSurfaceTemperature    12.448859\n",
       "dtype: float64"
      ]
     },
     "execution_count": 12,
     "metadata": {},
     "output_type": "execute_result"
    }
   ],
   "source": [
    "calcSTD(df, 'Season', \"RoadSurfaceTemperature\", \"SPRING\")"
   ]
  },
  {
   "cell_type": "code",
   "execution_count": 13,
   "metadata": {},
   "outputs": [
    {
     "name": "stdout",
     "output_type": "stream",
     "text": [
      "AirTemperature    54.781097\n",
      "dtype: float64\n"
     ]
    },
    {
     "data": {
      "text/plain": [
       "AirTemperature    54.781097\n",
       "dtype: float64"
      ]
     },
     "execution_count": 13,
     "metadata": {},
     "output_type": "execute_result"
    }
   ],
   "source": [
    "calcMean(df, 'Season', \"AirTemperature\", \"SPRING\")"
   ]
  },
  {
   "cell_type": "code",
   "execution_count": 14,
   "metadata": {},
   "outputs": [
    {
     "name": "stdout",
     "output_type": "stream",
     "text": [
      "AirTemperature    9.00445\n",
      "dtype: float64\n"
     ]
    },
    {
     "data": {
      "text/plain": [
       "AirTemperature    9.00445\n",
       "dtype: float64"
      ]
     },
     "execution_count": 14,
     "metadata": {},
     "output_type": "execute_result"
    }
   ],
   "source": [
    "calcSTD(df, 'Season', \"AirTemperature\", \"SPRING\")"
   ]
  },
  {
   "cell_type": "code",
   "execution_count": 35,
   "metadata": {},
   "outputs": [
    {
     "data": {
      "text/plain": [
       "36.772197000000006"
      ]
     },
     "execution_count": 35,
     "metadata": {},
     "output_type": "execute_result"
    }
   ],
   "source": [
    "54.781097 - 9.00445 - 9.00445"
   ]
  },
  {
   "cell_type": "markdown",
   "metadata": {},
   "source": [
    "## Summer"
   ]
  },
  {
   "cell_type": "code",
   "execution_count": 15,
   "metadata": {},
   "outputs": [
    {
     "name": "stdout",
     "output_type": "stream",
     "text": [
      "RoadSurfaceTemperature    76.748105\n",
      "dtype: float64\n"
     ]
    },
    {
     "data": {
      "text/plain": [
       "RoadSurfaceTemperature    76.748105\n",
       "dtype: float64"
      ]
     },
     "execution_count": 15,
     "metadata": {},
     "output_type": "execute_result"
    }
   ],
   "source": [
    "calcMean(df, 'Season', \"RoadSurfaceTemperature\", \"SUMMER\")"
   ]
  },
  {
   "cell_type": "code",
   "execution_count": 16,
   "metadata": {},
   "outputs": [
    {
     "name": "stdout",
     "output_type": "stream",
     "text": [
      "RoadSurfaceTemperature    11.348291\n",
      "dtype: float64\n"
     ]
    },
    {
     "data": {
      "text/plain": [
       "RoadSurfaceTemperature    11.348291\n",
       "dtype: float64"
      ]
     },
     "execution_count": 16,
     "metadata": {},
     "output_type": "execute_result"
    }
   ],
   "source": [
    "calcSTD(df, 'Season', \"RoadSurfaceTemperature\", \"SUMMER\")"
   ]
  },
  {
   "cell_type": "code",
   "execution_count": 17,
   "metadata": {},
   "outputs": [
    {
     "name": "stdout",
     "output_type": "stream",
     "text": [
      "AirTemperature    69.394578\n",
      "dtype: float64\n"
     ]
    },
    {
     "data": {
      "text/plain": [
       "AirTemperature    69.394578\n",
       "dtype: float64"
      ]
     },
     "execution_count": 17,
     "metadata": {},
     "output_type": "execute_result"
    }
   ],
   "source": [
    "calcMean(df, 'Season', \"AirTemperature\", \"SUMMER\")"
   ]
  },
  {
   "cell_type": "code",
   "execution_count": 18,
   "metadata": {},
   "outputs": [
    {
     "name": "stdout",
     "output_type": "stream",
     "text": [
      "AirTemperature    9.237978\n",
      "dtype: float64\n"
     ]
    },
    {
     "data": {
      "text/plain": [
       "AirTemperature    9.237978\n",
       "dtype: float64"
      ]
     },
     "execution_count": 18,
     "metadata": {},
     "output_type": "execute_result"
    }
   ],
   "source": [
    "calcSTD(df, 'Season', \"AirTemperature\", \"SUMMER\")"
   ]
  },
  {
   "cell_type": "code",
   "execution_count": 38,
   "metadata": {},
   "outputs": [
    {
     "data": {
      "text/plain": [
       "50.918622"
      ]
     },
     "execution_count": 38,
     "metadata": {},
     "output_type": "execute_result"
    }
   ],
   "source": [
    "69.394578 - 9.237978 - 9.237978"
   ]
  },
  {
   "cell_type": "markdown",
   "metadata": {},
   "source": [
    "## Fall"
   ]
  },
  {
   "cell_type": "code",
   "execution_count": 19,
   "metadata": {},
   "outputs": [
    {
     "name": "stdout",
     "output_type": "stream",
     "text": [
      "RoadSurfaceTemperature    57.854261\n",
      "dtype: float64\n"
     ]
    },
    {
     "data": {
      "text/plain": [
       "RoadSurfaceTemperature    57.854261\n",
       "dtype: float64"
      ]
     },
     "execution_count": 19,
     "metadata": {},
     "output_type": "execute_result"
    }
   ],
   "source": [
    "calcMean(df, 'Season', \"RoadSurfaceTemperature\", \"FALL\")"
   ]
  },
  {
   "cell_type": "code",
   "execution_count": 40,
   "metadata": {},
   "outputs": [
    {
     "data": {
      "text/plain": [
       "37.4682"
      ]
     },
     "execution_count": 40,
     "metadata": {},
     "output_type": "execute_result"
    }
   ],
   "source": [
    "56.146678 - 9.339239-9.339239"
   ]
  },
  {
   "cell_type": "code",
   "execution_count": 20,
   "metadata": {},
   "outputs": [
    {
     "name": "stdout",
     "output_type": "stream",
     "text": [
      "RoadSurfaceTemperature    11.383949\n",
      "dtype: float64\n"
     ]
    },
    {
     "data": {
      "text/plain": [
       "RoadSurfaceTemperature    11.383949\n",
       "dtype: float64"
      ]
     },
     "execution_count": 20,
     "metadata": {},
     "output_type": "execute_result"
    }
   ],
   "source": [
    "calcSTD(df, 'Season', \"RoadSurfaceTemperature\", \"FALL\")"
   ]
  },
  {
   "cell_type": "code",
   "execution_count": 21,
   "metadata": {},
   "outputs": [
    {
     "name": "stdout",
     "output_type": "stream",
     "text": [
      "AirTemperature    56.146678\n",
      "dtype: float64\n"
     ]
    },
    {
     "data": {
      "text/plain": [
       "AirTemperature    56.146678\n",
       "dtype: float64"
      ]
     },
     "execution_count": 21,
     "metadata": {},
     "output_type": "execute_result"
    }
   ],
   "source": [
    "calcMean(df, 'Season', \"AirTemperature\", \"FALL\")"
   ]
  },
  {
   "cell_type": "code",
   "execution_count": 22,
   "metadata": {},
   "outputs": [
    {
     "name": "stdout",
     "output_type": "stream",
     "text": [
      "AirTemperature    9.339239\n",
      "dtype: float64\n"
     ]
    },
    {
     "data": {
      "text/plain": [
       "AirTemperature    9.339239\n",
       "dtype: float64"
      ]
     },
     "execution_count": 22,
     "metadata": {},
     "output_type": "execute_result"
    }
   ],
   "source": [
    "calcSTD(df, 'Season', \"AirTemperature\", \"FALL\")"
   ]
  },
  {
   "cell_type": "code",
   "execution_count": null,
   "metadata": {},
   "outputs": [],
   "source": [
    "roadTempWinterUpLimit = 57.69\n",
    "airTempWinterUpLimit =  56.85\n",
    "\n",
    "roadTempSpringUpLimit = 83.82\n",
    "airTempSpringLimit = 72.78\n",
    "\n",
    "roadTempSummerUpLimit = 99.44\n",
    "airTempSummerUpLimit = 87.87\n",
    "\n",
    "roadTempFallUpLimit = 80.62\n",
    "airTempFallUpLimit = 65.48\n",
    "\n"
   ]
  },
  {
   "cell_type": "code",
   "execution_count": null,
   "metadata": {},
   "outputs": [],
   "source": [
    "roadTempWinterLowerLimit = 31.95\n",
    "airTempWinterLowerLimit =  33.248448\n",
    "\n",
    "roadTempSpringLowerLimit = 34.03\n",
    "airTempSpringLowerLimit = 36.77\n",
    "\n",
    "roadTempSummerLowerLimit = 54.05\n",
    "airTempSummerLowerLimit = 50.91\n",
    "\n",
    "roadTempFallLowerLimit = 35.08\n",
    "airTempFallLowerLimit = 37.4682"
   ]
  }
 ],
 "metadata": {
  "kernelspec": {
   "display_name": "Python 3",
   "language": "python",
   "name": "python3"
  },
  "language_info": {
   "codemirror_mode": {
    "name": "ipython",
    "version": 3
   },
   "file_extension": ".py",
   "mimetype": "text/x-python",
   "name": "python",
   "nbconvert_exporter": "python",
   "pygments_lexer": "ipython3",
   "version": "3.7.0"
  }
 },
 "nbformat": 4,
 "nbformat_minor": 2
}
